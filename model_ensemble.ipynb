{
  "nbformat": 4,
  "nbformat_minor": 0,
  "metadata": {
    "colab": {
      "name": "model ensemble.ipynb",
      "provenance": [],
      "collapsed_sections": [
        "-_8I5qzhtT4T"
      ],
      "toc_visible": true
    },
    "kernelspec": {
      "name": "python3",
      "display_name": "Python 3"
    }
  },
  "cells": [
    {
      "cell_type": "markdown",
      "metadata": {
        "id": "nXGI8YDTQcTI"
      },
      "source": [
        "#Import libaraies"
      ]
    },
    {
      "cell_type": "code",
      "metadata": {
        "id": "N9yg6BLZlzSG"
      },
      "source": [
        "import numpy as np \n",
        "import pandas as pd\n",
        "\n",
        "import seaborn as sns\n",
        "import matplotlib.pyplot as plt\n",
        "\n",
        "from sklearn import svm\n",
        "from sklearn.tree import DecisionTreeClassifier\n",
        "from sklearn.ensemble import RandomForestClassifier , GradientBoostingClassifier, AdaBoostClassifier\n",
        "from xgboost import XGBClassifier\n",
        "from sklearn.model_selection import KFold,cross_val_score\n",
        "from sklearn.metrics import roc_auc_score\n",
        "from sklearn.model_selection import GridSearchCV\n",
        "from sklearn.model_selection import train_test_split\n",
        "\n",
        "from tensorflow.keras.models import Sequential\n",
        "from tensorflow.keras.layers import Dense, Dropout, Activation, BatchNormalization\n",
        "from tensorflow.keras import regularizers\n",
        "from tensorflow.keras.utils import to_categorical\n",
        "\n",
        "from sklearn.metrics import accuracy_score\n",
        "from sklearn.metrics import f1_score\n",
        "from sklearn import metrics\n",
        "\n",
        "from sklearn.neural_network import MLPClassifier\n",
        "from warnings import simplefilter\n",
        "from sklearn.exceptions import ConvergenceWarning\n",
        "\n",
        "from sklearn.linear_model import LogisticRegression\n",
        "\n",
        "import xgboost as xgb\n",
        "from xgboost import plot_importance, plot_tree\n",
        "from xgboost import XGBClassifier"
      ],
      "execution_count": null,
      "outputs": []
    },
    {
      "cell_type": "markdown",
      "metadata": {
        "id": "wzOuy786QJqv"
      },
      "source": [
        "#Mount Driver"
      ]
    },
    {
      "cell_type": "code",
      "metadata": {
        "colab": {
          "base_uri": "https://localhost:8080/"
        },
        "id": "ftulQbAuKbM1",
        "outputId": "1f8e66b0-c8a4-4cc1-efb4-5fe46fb51b3b"
      },
      "source": [
        "from google.colab import drive\n",
        "\n",
        "drive.mount('/content/drive')\n",
        "\n",
        "!ls \"/content/drive/My Drive/Colab Notebooks/5012 Group\"\n",
        "\n",
        "!cp -r '/content/drive/My Drive/Colab Notebooks/5012 Group/data' \"./data\"\n",
        "\n",
        "!ls"
      ],
      "execution_count": null,
      "outputs": [
        {
          "output_type": "stream",
          "text": [
            "Drive already mounted at /content/drive; to attempt to forcibly remount, call drive.mount(\"/content/drive\", force_remount=True).\n",
            "'5012 Group_data.ipynb'\t\t\t\t\t'log reg'\n",
            "'5012 Group.ipynb'\t\t\t\t\t'model ensemble.ipynb'\n",
            " data\t\t\t\t\t\t\t svm\n",
            "'(Latest)5012 Group.ipynb'\t\t\t\t xgboost\n",
            "'Logistic Regression & SVM & Xgboost & LightGBM.ipynb'\n",
            "data  drive  sample_data\n"
          ],
          "name": "stdout"
        }
      ]
    },
    {
      "cell_type": "markdown",
      "metadata": {
        "id": "1d7eqNLdQOMk"
      },
      "source": [
        "#Import data"
      ]
    },
    {
      "cell_type": "code",
      "metadata": {
        "id": "9TFMoMrrmNOG"
      },
      "source": [
        "#df = pd.read_csv('/content/UCI_Credit_Card.csv')\n",
        "df = pd.read_csv('./data/UCI_Credit_Card.csv')"
      ],
      "execution_count": null,
      "outputs": []
    },
    {
      "cell_type": "markdown",
      "metadata": {
        "id": "-_8I5qzhtT4T"
      },
      "source": [
        "#Data Exploration"
      ]
    },
    {
      "cell_type": "code",
      "metadata": {
        "colab": {
          "base_uri": "https://localhost:8080/",
          "height": 222
        },
        "id": "9H2zSCIJmt1k",
        "outputId": "2cb52f59-a3da-46b6-f023-2177b229632c"
      },
      "source": [
        "df.head()"
      ],
      "execution_count": null,
      "outputs": [
        {
          "output_type": "execute_result",
          "data": {
            "text/html": [
              "<div>\n",
              "<style scoped>\n",
              "    .dataframe tbody tr th:only-of-type {\n",
              "        vertical-align: middle;\n",
              "    }\n",
              "\n",
              "    .dataframe tbody tr th {\n",
              "        vertical-align: top;\n",
              "    }\n",
              "\n",
              "    .dataframe thead th {\n",
              "        text-align: right;\n",
              "    }\n",
              "</style>\n",
              "<table border=\"1\" class=\"dataframe\">\n",
              "  <thead>\n",
              "    <tr style=\"text-align: right;\">\n",
              "      <th></th>\n",
              "      <th>ID</th>\n",
              "      <th>LIMIT_BAL</th>\n",
              "      <th>SEX</th>\n",
              "      <th>EDUCATION</th>\n",
              "      <th>MARRIAGE</th>\n",
              "      <th>AGE</th>\n",
              "      <th>PAY_0</th>\n",
              "      <th>PAY_2</th>\n",
              "      <th>PAY_3</th>\n",
              "      <th>PAY_4</th>\n",
              "      <th>PAY_5</th>\n",
              "      <th>PAY_6</th>\n",
              "      <th>BILL_AMT1</th>\n",
              "      <th>BILL_AMT2</th>\n",
              "      <th>BILL_AMT3</th>\n",
              "      <th>BILL_AMT4</th>\n",
              "      <th>BILL_AMT5</th>\n",
              "      <th>BILL_AMT6</th>\n",
              "      <th>PAY_AMT1</th>\n",
              "      <th>PAY_AMT2</th>\n",
              "      <th>PAY_AMT3</th>\n",
              "      <th>PAY_AMT4</th>\n",
              "      <th>PAY_AMT5</th>\n",
              "      <th>PAY_AMT6</th>\n",
              "      <th>default.payment.next.month</th>\n",
              "    </tr>\n",
              "  </thead>\n",
              "  <tbody>\n",
              "    <tr>\n",
              "      <th>0</th>\n",
              "      <td>1</td>\n",
              "      <td>20000.0</td>\n",
              "      <td>2</td>\n",
              "      <td>2</td>\n",
              "      <td>1</td>\n",
              "      <td>24</td>\n",
              "      <td>2</td>\n",
              "      <td>2</td>\n",
              "      <td>-1</td>\n",
              "      <td>-1</td>\n",
              "      <td>-2</td>\n",
              "      <td>-2</td>\n",
              "      <td>3913.0</td>\n",
              "      <td>3102.0</td>\n",
              "      <td>689.0</td>\n",
              "      <td>0.0</td>\n",
              "      <td>0.0</td>\n",
              "      <td>0.0</td>\n",
              "      <td>0.0</td>\n",
              "      <td>689.0</td>\n",
              "      <td>0.0</td>\n",
              "      <td>0.0</td>\n",
              "      <td>0.0</td>\n",
              "      <td>0.0</td>\n",
              "      <td>1</td>\n",
              "    </tr>\n",
              "    <tr>\n",
              "      <th>1</th>\n",
              "      <td>2</td>\n",
              "      <td>120000.0</td>\n",
              "      <td>2</td>\n",
              "      <td>2</td>\n",
              "      <td>2</td>\n",
              "      <td>26</td>\n",
              "      <td>-1</td>\n",
              "      <td>2</td>\n",
              "      <td>0</td>\n",
              "      <td>0</td>\n",
              "      <td>0</td>\n",
              "      <td>2</td>\n",
              "      <td>2682.0</td>\n",
              "      <td>1725.0</td>\n",
              "      <td>2682.0</td>\n",
              "      <td>3272.0</td>\n",
              "      <td>3455.0</td>\n",
              "      <td>3261.0</td>\n",
              "      <td>0.0</td>\n",
              "      <td>1000.0</td>\n",
              "      <td>1000.0</td>\n",
              "      <td>1000.0</td>\n",
              "      <td>0.0</td>\n",
              "      <td>2000.0</td>\n",
              "      <td>1</td>\n",
              "    </tr>\n",
              "    <tr>\n",
              "      <th>2</th>\n",
              "      <td>3</td>\n",
              "      <td>90000.0</td>\n",
              "      <td>2</td>\n",
              "      <td>2</td>\n",
              "      <td>2</td>\n",
              "      <td>34</td>\n",
              "      <td>0</td>\n",
              "      <td>0</td>\n",
              "      <td>0</td>\n",
              "      <td>0</td>\n",
              "      <td>0</td>\n",
              "      <td>0</td>\n",
              "      <td>29239.0</td>\n",
              "      <td>14027.0</td>\n",
              "      <td>13559.0</td>\n",
              "      <td>14331.0</td>\n",
              "      <td>14948.0</td>\n",
              "      <td>15549.0</td>\n",
              "      <td>1518.0</td>\n",
              "      <td>1500.0</td>\n",
              "      <td>1000.0</td>\n",
              "      <td>1000.0</td>\n",
              "      <td>1000.0</td>\n",
              "      <td>5000.0</td>\n",
              "      <td>0</td>\n",
              "    </tr>\n",
              "    <tr>\n",
              "      <th>3</th>\n",
              "      <td>4</td>\n",
              "      <td>50000.0</td>\n",
              "      <td>2</td>\n",
              "      <td>2</td>\n",
              "      <td>1</td>\n",
              "      <td>37</td>\n",
              "      <td>0</td>\n",
              "      <td>0</td>\n",
              "      <td>0</td>\n",
              "      <td>0</td>\n",
              "      <td>0</td>\n",
              "      <td>0</td>\n",
              "      <td>46990.0</td>\n",
              "      <td>48233.0</td>\n",
              "      <td>49291.0</td>\n",
              "      <td>28314.0</td>\n",
              "      <td>28959.0</td>\n",
              "      <td>29547.0</td>\n",
              "      <td>2000.0</td>\n",
              "      <td>2019.0</td>\n",
              "      <td>1200.0</td>\n",
              "      <td>1100.0</td>\n",
              "      <td>1069.0</td>\n",
              "      <td>1000.0</td>\n",
              "      <td>0</td>\n",
              "    </tr>\n",
              "    <tr>\n",
              "      <th>4</th>\n",
              "      <td>5</td>\n",
              "      <td>50000.0</td>\n",
              "      <td>1</td>\n",
              "      <td>2</td>\n",
              "      <td>1</td>\n",
              "      <td>57</td>\n",
              "      <td>-1</td>\n",
              "      <td>0</td>\n",
              "      <td>-1</td>\n",
              "      <td>0</td>\n",
              "      <td>0</td>\n",
              "      <td>0</td>\n",
              "      <td>8617.0</td>\n",
              "      <td>5670.0</td>\n",
              "      <td>35835.0</td>\n",
              "      <td>20940.0</td>\n",
              "      <td>19146.0</td>\n",
              "      <td>19131.0</td>\n",
              "      <td>2000.0</td>\n",
              "      <td>36681.0</td>\n",
              "      <td>10000.0</td>\n",
              "      <td>9000.0</td>\n",
              "      <td>689.0</td>\n",
              "      <td>679.0</td>\n",
              "      <td>0</td>\n",
              "    </tr>\n",
              "  </tbody>\n",
              "</table>\n",
              "</div>"
            ],
            "text/plain": [
              "   ID  LIMIT_BAL  SEX  ...  PAY_AMT5  PAY_AMT6  default.payment.next.month\n",
              "0   1    20000.0    2  ...       0.0       0.0                           1\n",
              "1   2   120000.0    2  ...       0.0    2000.0                           1\n",
              "2   3    90000.0    2  ...    1000.0    5000.0                           0\n",
              "3   4    50000.0    2  ...    1069.0    1000.0                           0\n",
              "4   5    50000.0    1  ...     689.0     679.0                           0\n",
              "\n",
              "[5 rows x 25 columns]"
            ]
          },
          "metadata": {
            "tags": []
          },
          "execution_count": 10
        }
      ]
    },
    {
      "cell_type": "code",
      "metadata": {
        "colab": {
          "base_uri": "https://localhost:8080/",
          "height": 314
        },
        "id": "aPUW0c9VmwP1",
        "outputId": "bc25a5a2-50e9-4fd5-cc08-f36a45221639"
      },
      "source": [
        "df.describe()"
      ],
      "execution_count": null,
      "outputs": [
        {
          "output_type": "execute_result",
          "data": {
            "text/html": [
              "<div>\n",
              "<style scoped>\n",
              "    .dataframe tbody tr th:only-of-type {\n",
              "        vertical-align: middle;\n",
              "    }\n",
              "\n",
              "    .dataframe tbody tr th {\n",
              "        vertical-align: top;\n",
              "    }\n",
              "\n",
              "    .dataframe thead th {\n",
              "        text-align: right;\n",
              "    }\n",
              "</style>\n",
              "<table border=\"1\" class=\"dataframe\">\n",
              "  <thead>\n",
              "    <tr style=\"text-align: right;\">\n",
              "      <th></th>\n",
              "      <th>ID</th>\n",
              "      <th>LIMIT_BAL</th>\n",
              "      <th>SEX</th>\n",
              "      <th>EDUCATION</th>\n",
              "      <th>MARRIAGE</th>\n",
              "      <th>AGE</th>\n",
              "      <th>PAY_0</th>\n",
              "      <th>PAY_2</th>\n",
              "      <th>PAY_3</th>\n",
              "      <th>PAY_4</th>\n",
              "      <th>PAY_5</th>\n",
              "      <th>PAY_6</th>\n",
              "      <th>BILL_AMT1</th>\n",
              "      <th>BILL_AMT2</th>\n",
              "      <th>BILL_AMT3</th>\n",
              "      <th>BILL_AMT4</th>\n",
              "      <th>BILL_AMT5</th>\n",
              "      <th>BILL_AMT6</th>\n",
              "      <th>PAY_AMT1</th>\n",
              "      <th>PAY_AMT2</th>\n",
              "      <th>PAY_AMT3</th>\n",
              "      <th>PAY_AMT4</th>\n",
              "      <th>PAY_AMT5</th>\n",
              "      <th>PAY_AMT6</th>\n",
              "      <th>default.payment.next.month</th>\n",
              "    </tr>\n",
              "  </thead>\n",
              "  <tbody>\n",
              "    <tr>\n",
              "      <th>count</th>\n",
              "      <td>30000.000000</td>\n",
              "      <td>30000.000000</td>\n",
              "      <td>30000.000000</td>\n",
              "      <td>30000.000000</td>\n",
              "      <td>30000.000000</td>\n",
              "      <td>30000.000000</td>\n",
              "      <td>30000.000000</td>\n",
              "      <td>30000.000000</td>\n",
              "      <td>30000.000000</td>\n",
              "      <td>30000.000000</td>\n",
              "      <td>30000.000000</td>\n",
              "      <td>30000.000000</td>\n",
              "      <td>30000.000000</td>\n",
              "      <td>30000.000000</td>\n",
              "      <td>3.000000e+04</td>\n",
              "      <td>30000.000000</td>\n",
              "      <td>30000.000000</td>\n",
              "      <td>30000.000000</td>\n",
              "      <td>30000.000000</td>\n",
              "      <td>3.000000e+04</td>\n",
              "      <td>30000.00000</td>\n",
              "      <td>30000.000000</td>\n",
              "      <td>30000.000000</td>\n",
              "      <td>30000.000000</td>\n",
              "      <td>30000.000000</td>\n",
              "    </tr>\n",
              "    <tr>\n",
              "      <th>mean</th>\n",
              "      <td>15000.500000</td>\n",
              "      <td>167484.322667</td>\n",
              "      <td>1.603733</td>\n",
              "      <td>1.853133</td>\n",
              "      <td>1.551867</td>\n",
              "      <td>35.485500</td>\n",
              "      <td>-0.016700</td>\n",
              "      <td>-0.133767</td>\n",
              "      <td>-0.166200</td>\n",
              "      <td>-0.220667</td>\n",
              "      <td>-0.266200</td>\n",
              "      <td>-0.291100</td>\n",
              "      <td>51223.330900</td>\n",
              "      <td>49179.075167</td>\n",
              "      <td>4.701315e+04</td>\n",
              "      <td>43262.948967</td>\n",
              "      <td>40311.400967</td>\n",
              "      <td>38871.760400</td>\n",
              "      <td>5663.580500</td>\n",
              "      <td>5.921163e+03</td>\n",
              "      <td>5225.68150</td>\n",
              "      <td>4826.076867</td>\n",
              "      <td>4799.387633</td>\n",
              "      <td>5215.502567</td>\n",
              "      <td>0.221200</td>\n",
              "    </tr>\n",
              "    <tr>\n",
              "      <th>std</th>\n",
              "      <td>8660.398374</td>\n",
              "      <td>129747.661567</td>\n",
              "      <td>0.489129</td>\n",
              "      <td>0.790349</td>\n",
              "      <td>0.521970</td>\n",
              "      <td>9.217904</td>\n",
              "      <td>1.123802</td>\n",
              "      <td>1.197186</td>\n",
              "      <td>1.196868</td>\n",
              "      <td>1.169139</td>\n",
              "      <td>1.133187</td>\n",
              "      <td>1.149988</td>\n",
              "      <td>73635.860576</td>\n",
              "      <td>71173.768783</td>\n",
              "      <td>6.934939e+04</td>\n",
              "      <td>64332.856134</td>\n",
              "      <td>60797.155770</td>\n",
              "      <td>59554.107537</td>\n",
              "      <td>16563.280354</td>\n",
              "      <td>2.304087e+04</td>\n",
              "      <td>17606.96147</td>\n",
              "      <td>15666.159744</td>\n",
              "      <td>15278.305679</td>\n",
              "      <td>17777.465775</td>\n",
              "      <td>0.415062</td>\n",
              "    </tr>\n",
              "    <tr>\n",
              "      <th>min</th>\n",
              "      <td>1.000000</td>\n",
              "      <td>10000.000000</td>\n",
              "      <td>1.000000</td>\n",
              "      <td>0.000000</td>\n",
              "      <td>0.000000</td>\n",
              "      <td>21.000000</td>\n",
              "      <td>-2.000000</td>\n",
              "      <td>-2.000000</td>\n",
              "      <td>-2.000000</td>\n",
              "      <td>-2.000000</td>\n",
              "      <td>-2.000000</td>\n",
              "      <td>-2.000000</td>\n",
              "      <td>-165580.000000</td>\n",
              "      <td>-69777.000000</td>\n",
              "      <td>-1.572640e+05</td>\n",
              "      <td>-170000.000000</td>\n",
              "      <td>-81334.000000</td>\n",
              "      <td>-339603.000000</td>\n",
              "      <td>0.000000</td>\n",
              "      <td>0.000000e+00</td>\n",
              "      <td>0.00000</td>\n",
              "      <td>0.000000</td>\n",
              "      <td>0.000000</td>\n",
              "      <td>0.000000</td>\n",
              "      <td>0.000000</td>\n",
              "    </tr>\n",
              "    <tr>\n",
              "      <th>25%</th>\n",
              "      <td>7500.750000</td>\n",
              "      <td>50000.000000</td>\n",
              "      <td>1.000000</td>\n",
              "      <td>1.000000</td>\n",
              "      <td>1.000000</td>\n",
              "      <td>28.000000</td>\n",
              "      <td>-1.000000</td>\n",
              "      <td>-1.000000</td>\n",
              "      <td>-1.000000</td>\n",
              "      <td>-1.000000</td>\n",
              "      <td>-1.000000</td>\n",
              "      <td>-1.000000</td>\n",
              "      <td>3558.750000</td>\n",
              "      <td>2984.750000</td>\n",
              "      <td>2.666250e+03</td>\n",
              "      <td>2326.750000</td>\n",
              "      <td>1763.000000</td>\n",
              "      <td>1256.000000</td>\n",
              "      <td>1000.000000</td>\n",
              "      <td>8.330000e+02</td>\n",
              "      <td>390.00000</td>\n",
              "      <td>296.000000</td>\n",
              "      <td>252.500000</td>\n",
              "      <td>117.750000</td>\n",
              "      <td>0.000000</td>\n",
              "    </tr>\n",
              "    <tr>\n",
              "      <th>50%</th>\n",
              "      <td>15000.500000</td>\n",
              "      <td>140000.000000</td>\n",
              "      <td>2.000000</td>\n",
              "      <td>2.000000</td>\n",
              "      <td>2.000000</td>\n",
              "      <td>34.000000</td>\n",
              "      <td>0.000000</td>\n",
              "      <td>0.000000</td>\n",
              "      <td>0.000000</td>\n",
              "      <td>0.000000</td>\n",
              "      <td>0.000000</td>\n",
              "      <td>0.000000</td>\n",
              "      <td>22381.500000</td>\n",
              "      <td>21200.000000</td>\n",
              "      <td>2.008850e+04</td>\n",
              "      <td>19052.000000</td>\n",
              "      <td>18104.500000</td>\n",
              "      <td>17071.000000</td>\n",
              "      <td>2100.000000</td>\n",
              "      <td>2.009000e+03</td>\n",
              "      <td>1800.00000</td>\n",
              "      <td>1500.000000</td>\n",
              "      <td>1500.000000</td>\n",
              "      <td>1500.000000</td>\n",
              "      <td>0.000000</td>\n",
              "    </tr>\n",
              "    <tr>\n",
              "      <th>75%</th>\n",
              "      <td>22500.250000</td>\n",
              "      <td>240000.000000</td>\n",
              "      <td>2.000000</td>\n",
              "      <td>2.000000</td>\n",
              "      <td>2.000000</td>\n",
              "      <td>41.000000</td>\n",
              "      <td>0.000000</td>\n",
              "      <td>0.000000</td>\n",
              "      <td>0.000000</td>\n",
              "      <td>0.000000</td>\n",
              "      <td>0.000000</td>\n",
              "      <td>0.000000</td>\n",
              "      <td>67091.000000</td>\n",
              "      <td>64006.250000</td>\n",
              "      <td>6.016475e+04</td>\n",
              "      <td>54506.000000</td>\n",
              "      <td>50190.500000</td>\n",
              "      <td>49198.250000</td>\n",
              "      <td>5006.000000</td>\n",
              "      <td>5.000000e+03</td>\n",
              "      <td>4505.00000</td>\n",
              "      <td>4013.250000</td>\n",
              "      <td>4031.500000</td>\n",
              "      <td>4000.000000</td>\n",
              "      <td>0.000000</td>\n",
              "    </tr>\n",
              "    <tr>\n",
              "      <th>max</th>\n",
              "      <td>30000.000000</td>\n",
              "      <td>1000000.000000</td>\n",
              "      <td>2.000000</td>\n",
              "      <td>6.000000</td>\n",
              "      <td>3.000000</td>\n",
              "      <td>79.000000</td>\n",
              "      <td>8.000000</td>\n",
              "      <td>8.000000</td>\n",
              "      <td>8.000000</td>\n",
              "      <td>8.000000</td>\n",
              "      <td>8.000000</td>\n",
              "      <td>8.000000</td>\n",
              "      <td>964511.000000</td>\n",
              "      <td>983931.000000</td>\n",
              "      <td>1.664089e+06</td>\n",
              "      <td>891586.000000</td>\n",
              "      <td>927171.000000</td>\n",
              "      <td>961664.000000</td>\n",
              "      <td>873552.000000</td>\n",
              "      <td>1.684259e+06</td>\n",
              "      <td>896040.00000</td>\n",
              "      <td>621000.000000</td>\n",
              "      <td>426529.000000</td>\n",
              "      <td>528666.000000</td>\n",
              "      <td>1.000000</td>\n",
              "    </tr>\n",
              "  </tbody>\n",
              "</table>\n",
              "</div>"
            ],
            "text/plain": [
              "                 ID       LIMIT_BAL  ...       PAY_AMT6  default.payment.next.month\n",
              "count  30000.000000    30000.000000  ...   30000.000000                30000.000000\n",
              "mean   15000.500000   167484.322667  ...    5215.502567                    0.221200\n",
              "std     8660.398374   129747.661567  ...   17777.465775                    0.415062\n",
              "min        1.000000    10000.000000  ...       0.000000                    0.000000\n",
              "25%     7500.750000    50000.000000  ...     117.750000                    0.000000\n",
              "50%    15000.500000   140000.000000  ...    1500.000000                    0.000000\n",
              "75%    22500.250000   240000.000000  ...    4000.000000                    0.000000\n",
              "max    30000.000000  1000000.000000  ...  528666.000000                    1.000000\n",
              "\n",
              "[8 rows x 25 columns]"
            ]
          },
          "metadata": {
            "tags": []
          },
          "execution_count": 11
        }
      ]
    },
    {
      "cell_type": "markdown",
      "metadata": {
        "id": "dj-zbzfItdxW"
      },
      "source": [
        "#Data Preparation"
      ]
    },
    {
      "cell_type": "code",
      "metadata": {
        "id": "KacKh0Z64k51"
      },
      "source": [
        "non_feature_col = ['ID','default.payment.next.month']\n",
        "X = df[[col for col in df.columns if col not in non_feature_col]]\n",
        "y = df['default.payment.next.month']"
      ],
      "execution_count": null,
      "outputs": []
    },
    {
      "cell_type": "markdown",
      "metadata": {
        "id": "UauzY2Ijm9Ju"
      },
      "source": [
        "Handle imbalance data using SMOTE\n",
        "\n"
      ]
    },
    {
      "cell_type": "code",
      "metadata": {
        "id": "xzO5GzVNmzAS"
      },
      "source": [
        "from imblearn.over_sampling import SMOTE"
      ],
      "execution_count": null,
      "outputs": []
    },
    {
      "cell_type": "code",
      "metadata": {
        "id": "3E7kD9TZnEZW",
        "colab": {
          "base_uri": "https://localhost:8080/"
        },
        "outputId": "0c810690-d771-4452-916f-64ac67c204fe"
      },
      "source": [
        "smote = SMOTE(random_state=42)\n",
        "X_sm, y_sm = smote.fit_sample(X, y)"
      ],
      "execution_count": null,
      "outputs": [
        {
          "output_type": "stream",
          "text": [
            "/usr/local/lib/python3.6/dist-packages/sklearn/utils/deprecation.py:87: FutureWarning: Function safe_indexing is deprecated; safe_indexing is deprecated in version 0.22 and will be removed in version 0.24.\n",
            "  warnings.warn(msg, category=FutureWarning)\n"
          ],
          "name": "stderr"
        }
      ]
    },
    {
      "cell_type": "markdown",
      "metadata": {
        "id": "pxSVRl4E-1z0"
      },
      "source": [
        "Train test split"
      ]
    },
    {
      "cell_type": "code",
      "metadata": {
        "id": "pITmdDQc-1Fs"
      },
      "source": [
        "#with smote\n",
        "X_train, X_test, y_train, y_test = train_test_split(X_sm, y_sm, test_size=0.2, random_state=42)"
      ],
      "execution_count": null,
      "outputs": []
    },
    {
      "cell_type": "markdown",
      "metadata": {
        "id": "_7u4D-fu3GVg"
      },
      "source": [
        "#Ensemble the Models"
      ]
    },
    {
      "cell_type": "code",
      "metadata": {
        "id": "Q_Ic6wKX3GqZ"
      },
      "source": [
        "from sklearn.ensemble import VotingClassifier\n",
        "\n",
        "\n",
        "ensembled =            VotingClassifier(estimators=[\n",
        "                                                   ('rf', RandomForestClassifier(\n",
        "                                                            n_estimators=200,\n",
        "                                                            max_depth=20,\n",
        "                                                            min_samples_leaf=3,\n",
        "                                                            random_state=42,\n",
        "                                                            n_jobs=-1,\n",
        "                                                          )\n",
        "                                                   ),\n",
        "                                                   ('nn', MLPClassifier(\n",
        "                                                            hidden_layer_sizes=(16, 16),\n",
        "                                                            max_iter=1000, \n",
        "                                                            activation=\"tanh\", \n",
        "                                                            solver=\"adam\", \n",
        "                                                            random_state=42)\n",
        "                                                   ),\n",
        "                                                   ('lr',LogisticRegression(\n",
        "                                                            max_iter = 1000,\n",
        "                                                            C= 3)\n",
        "                                                   ),\n",
        "                                                    ('svm',svm.SVC(\n",
        "                                                            C=7.0,\n",
        "                                                            kernel='rbf')\n",
        "                                                    ),\n",
        "                                                   ('xgb',xgb.XGBClassifier(\n",
        "                                                            nthread = -1,\n",
        "                                                            learning_rate= 0.165,\n",
        "                                                            max_depth= 6, \n",
        "                                                            n_estimators= 200)\n",
        "                                                   )\n",
        "                                                   ], n_jobs=-1)\n",
        "result = ensembled.fit(X_train,y_train)"
      ],
      "execution_count": null,
      "outputs": []
    },
    {
      "cell_type": "code",
      "metadata": {
        "colab": {
          "base_uri": "https://localhost:8080/"
        },
        "id": "Jds_Z27vJIG8",
        "outputId": "26b9077a-17fb-480b-b396-9f94b24334bb"
      },
      "source": [
        "val_roc_auc_score = roc_auc_score(y_test, result.predict(X_test))  #test error\n",
        "val_roc_auc_score "
      ],
      "execution_count": null,
      "outputs": [
        {
          "output_type": "execute_result",
          "data": {
            "text/plain": [
              "0.7153217350782495"
            ]
          },
          "metadata": {
            "tags": []
          },
          "execution_count": 34
        }
      ]
    },
    {
      "cell_type": "code",
      "metadata": {
        "colab": {
          "base_uri": "https://localhost:8080/"
        },
        "id": "WD-pZDLlJVFK",
        "outputId": "c750d06c-b773-4992-8c8a-bd1b56bccb11"
      },
      "source": [
        "val_roc_auc_score = roc_auc_score(y_train, result.predict(X_train))  #train error\n",
        "val_roc_auc_score "
      ],
      "execution_count": null,
      "outputs": [
        {
          "output_type": "execute_result",
          "data": {
            "text/plain": [
              "0.7517735049952283"
            ]
          },
          "metadata": {
            "tags": []
          },
          "execution_count": 36
        }
      ]
    },
    {
      "cell_type": "code",
      "metadata": {
        "id": "vN9LSbyYKRpK"
      },
      "source": [
        "ensembled =            VotingClassifier(estimators=[\n",
        "                                                   ('rf', RandomForestClassifier(\n",
        "                                                            n_estimators=200,\n",
        "                                                            max_depth=20,\n",
        "                                                            min_samples_leaf=3,\n",
        "                                                            random_state=42,\n",
        "                                                            n_jobs=-1,\n",
        "                                                          )\n",
        "                                                   ),\n",
        "                                                   ('nn', MLPClassifier(\n",
        "                                                            hidden_layer_sizes=(16, 16),\n",
        "                                                            max_iter=1000, \n",
        "                                                            activation=\"tanh\", \n",
        "                                                            solver=\"adam\", \n",
        "                                                            random_state=42)\n",
        "                                                   ),\n",
        "                                                   ('lr',LogisticRegression(\n",
        "                                                            max_iter = 1000,\n",
        "                                                            C= 3)\n",
        "                                                   ),\n",
        "                                                    ('svm',svm.SVC(\n",
        "                                                            C=7.0,\n",
        "                                                            kernel='rbf')\n",
        "                                                    ),\n",
        "                                                   ('xgb',xgb.XGBClassifier(\n",
        "                                                            nthread = -1,\n",
        "                                                            learning_rate= 0.165,\n",
        "                                                            max_depth= 6, \n",
        "                                                            n_estimators= 200)\n",
        "                                                   )\n",
        "                                                   ], n_jobs=-1,\n",
        "                                                       weights=[0.4,0.15,0.15,0.15,0.15])\n",
        "result = ensembled.fit(X_train,y_train)"
      ],
      "execution_count": null,
      "outputs": []
    },
    {
      "cell_type": "code",
      "metadata": {
        "colab": {
          "base_uri": "https://localhost:8080/"
        },
        "id": "u_MbV-t_KeOm",
        "outputId": "bacff1cf-7583-4e2f-9af8-c645fd3cb66d"
      },
      "source": [
        "val_roc_auc_score = roc_auc_score(y_test, result.predict(X_test))  #test error\n",
        "print(val_roc_auc_score) \n",
        "val_roc_auc_score_1 = roc_auc_score(y_train, result.predict(X_train))  #train error\n",
        "print(val_roc_auc_score_1)"
      ],
      "execution_count": null,
      "outputs": [
        {
          "output_type": "execute_result",
          "data": {
            "text/plain": [
              "0.9366104809628302"
            ]
          },
          "metadata": {
            "tags": []
          },
          "execution_count": 39
        }
      ]
    },
    {
      "cell_type": "code",
      "metadata": {
        "colab": {
          "base_uri": "https://localhost:8080/"
        },
        "id": "SJM05vl5LmSH",
        "outputId": "0ee5db9c-ff68-47d6-d23f-05b1601cc499"
      },
      "source": [
        "print(val_roc_auc_score) "
      ],
      "execution_count": null,
      "outputs": [
        {
          "output_type": "stream",
          "text": [
            "0.8770536388768196\n"
          ],
          "name": "stdout"
        }
      ]
    },
    {
      "cell_type": "code",
      "metadata": {
        "colab": {
          "base_uri": "https://localhost:8080/"
        },
        "id": "XxV-ZygnLsBc",
        "outputId": "27f03b69-f2b6-4c7e-e350-aa9010ec00f5"
      },
      "source": [
        "ensembled =            VotingClassifier(estimators=[\n",
        "                                                   ('rf', RandomForestClassifier(\n",
        "                                                            n_estimators=200,\n",
        "                                                            max_depth=20,\n",
        "                                                            min_samples_leaf=3,\n",
        "                                                            random_state=42,\n",
        "                                                            n_jobs=-1,\n",
        "                                                          )\n",
        "                                                   ),\n",
        "                                                   ('nn', MLPClassifier(\n",
        "                                                            hidden_layer_sizes=(16, 16),\n",
        "                                                            max_iter=1000, \n",
        "                                                            activation=\"tanh\", \n",
        "                                                            solver=\"adam\", \n",
        "                                                            random_state=42)\n",
        "                                                   ),\n",
        "                                                   ('lr',LogisticRegression(\n",
        "                                                            max_iter = 1000,\n",
        "                                                            C= 3)\n",
        "                                                   ),\n",
        "                                                    ('svm',svm.SVC(\n",
        "                                                            C=7.0,\n",
        "                                                            kernel='rbf')\n",
        "                                                    ),\n",
        "                                                   ('xgb',xgb.XGBClassifier(\n",
        "                                                            nthread = -1,\n",
        "                                                            learning_rate= 0.165,\n",
        "                                                            max_depth= 6, \n",
        "                                                            n_estimators= 200)\n",
        "                                                   )\n",
        "                                                   ], n_jobs=-1,\n",
        "                                                       weights=[0.15,0.4,0.15,0.15,0.15])\n",
        "result = ensembled.fit(X_train,y_train)"
      ],
      "execution_count": null,
      "outputs": [
        {
          "output_type": "stream",
          "text": [
            "/usr/local/lib/python3.6/dist-packages/joblib/externals/loky/process_executor.py:691: UserWarning: A worker stopped while some jobs were given to the executor. This can be caused by a too short worker timeout or by a memory leak.\n",
            "  \"timeout or by a memory leak.\", UserWarning\n"
          ],
          "name": "stderr"
        }
      ]
    },
    {
      "cell_type": "code",
      "metadata": {
        "colab": {
          "base_uri": "https://localhost:8080/"
        },
        "id": "sNBfHSt_Lx7H",
        "outputId": "0db9096e-b8ae-47d3-b729-e813bce6eafd"
      },
      "source": [
        "val_roc_auc_score = roc_auc_score(y_test, result.predict(X_test))  #test error\n",
        "print(val_roc_auc_score) \n",
        "val_roc_auc_score_1 = roc_auc_score(y_train, result.predict(X_train))  #train error\n",
        "print(val_roc_auc_score_1)"
      ],
      "execution_count": null,
      "outputs": [
        {
          "output_type": "stream",
          "text": [
            "0.6749733752783369\n",
            "0.6976040278983975\n"
          ],
          "name": "stdout"
        }
      ]
    },
    {
      "cell_type": "code",
      "metadata": {
        "id": "T91FtSL1Nv1D"
      },
      "source": [
        "ensembled =            VotingClassifier(estimators=[\n",
        "                                                   ('rf', RandomForestClassifier(\n",
        "                                                            n_estimators=200,\n",
        "                                                            max_depth=20,\n",
        "                                                            min_samples_leaf=3,\n",
        "                                                            random_state=42,\n",
        "                                                            n_jobs=-1,\n",
        "                                                          )\n",
        "                                                   ),\n",
        "                                                   ('nn', MLPClassifier(\n",
        "                                                            hidden_layer_sizes=(16, 16),\n",
        "                                                            max_iter=1000, \n",
        "                                                            activation=\"tanh\", \n",
        "                                                            solver=\"adam\", \n",
        "                                                            random_state=42)\n",
        "                                                   ),\n",
        "                                                   ('lr',LogisticRegression(\n",
        "                                                            max_iter = 1000,\n",
        "                                                            C= 3)\n",
        "                                                   ),\n",
        "                                                    ('svm',svm.SVC(\n",
        "                                                            C=7.0,\n",
        "                                                            kernel='rbf')\n",
        "                                                    ),\n",
        "                                                   ('xgb',xgb.XGBClassifier(\n",
        "                                                            nthread = -1,\n",
        "                                                            learning_rate= 0.165,\n",
        "                                                            max_depth= 6, \n",
        "                                                            n_estimators= 200)\n",
        "                                                   )\n",
        "                                                   ], n_jobs=-1,\n",
        "                                                       weights=[0.15,0.15,0.4,0.15,0.15])\n",
        "result = ensembled.fit(X_train,y_train)"
      ],
      "execution_count": null,
      "outputs": []
    },
    {
      "cell_type": "code",
      "metadata": {
        "colab": {
          "base_uri": "https://localhost:8080/"
        },
        "id": "xNIH0Y4EOQfG",
        "outputId": "40555bd3-ca60-4b76-ab13-72167fb76352"
      },
      "source": [
        "val_roc_auc_score = roc_auc_score(y_test, result.predict(X_test))  #test error\n",
        "print(val_roc_auc_score) \n",
        "val_roc_auc_score_1 = roc_auc_score(y_train, result.predict(X_train))  #train error\n",
        "print(val_roc_auc_score_1)"
      ],
      "execution_count": null,
      "outputs": [
        {
          "output_type": "stream",
          "text": [
            "0.6364491798450033\n",
            "0.652584838161014\n"
          ],
          "name": "stdout"
        }
      ]
    },
    {
      "cell_type": "code",
      "metadata": {
        "id": "F2s-yRUSOhQi"
      },
      "source": [
        "ensembled =            VotingClassifier(estimators=[\n",
        "                                                   ('rf', RandomForestClassifier(\n",
        "                                                            n_estimators=200,\n",
        "                                                            max_depth=20,\n",
        "                                                            min_samples_leaf=3,\n",
        "                                                            random_state=42,\n",
        "                                                            n_jobs=-1,\n",
        "                                                          )\n",
        "                                                   ),\n",
        "                                                   ('nn', MLPClassifier(\n",
        "                                                            hidden_layer_sizes=(16, 16),\n",
        "                                                            max_iter=1000, \n",
        "                                                            activation=\"tanh\", \n",
        "                                                            solver=\"adam\", \n",
        "                                                            random_state=42)\n",
        "                                                   ),\n",
        "                                                   ('lr',LogisticRegression(\n",
        "                                                            max_iter = 1000,\n",
        "                                                            C= 3)\n",
        "                                                   ),\n",
        "                                                    ('svm',svm.SVC(\n",
        "                                                            C=7.0,\n",
        "                                                            kernel='rbf')\n",
        "                                                    ),\n",
        "                                                   ('xgb',xgb.XGBClassifier(\n",
        "                                                            nthread = -1,\n",
        "                                                            learning_rate= 0.165,\n",
        "                                                            max_depth= 6, \n",
        "                                                            n_estimators= 200)\n",
        "                                                   )\n",
        "                                                   ], n_jobs=-1,\n",
        "                                                       weights=[0.15,0.15,0.15,0.4,0.15])\n",
        "result = ensembled.fit(X_train,y_train)"
      ],
      "execution_count": null,
      "outputs": []
    },
    {
      "cell_type": "code",
      "metadata": {
        "colab": {
          "base_uri": "https://localhost:8080/"
        },
        "id": "fYT-mgvxPT9T",
        "outputId": "f54f8617-89fb-49a0-d282-0136a0f6aa72"
      },
      "source": [
        "val_roc_auc_score = roc_auc_score(y_test, result.predict(X_test))  #test error\n",
        "print(val_roc_auc_score) \n",
        "val_roc_auc_score_1 = roc_auc_score(y_train, result.predict(X_train))  #train error\n",
        "print(val_roc_auc_score_1)"
      ],
      "execution_count": null,
      "outputs": [
        {
          "output_type": "stream",
          "text": [
            "0.6491120421775156\n",
            "0.669106558001153\n"
          ],
          "name": "stdout"
        }
      ]
    },
    {
      "cell_type": "code",
      "metadata": {
        "id": "Q_18BVRpP653"
      },
      "source": [
        "ensembled =            VotingClassifier(estimators=[\n",
        "                                                   ('rf', RandomForestClassifier(\n",
        "                                                            n_estimators=200,\n",
        "                                                            max_depth=20,\n",
        "                                                            min_samples_leaf=3,\n",
        "                                                            random_state=42,\n",
        "                                                            n_jobs=-1,\n",
        "                                                          )\n",
        "                                                   ),\n",
        "                                                   ('nn', MLPClassifier(\n",
        "                                                            hidden_layer_sizes=(16, 16),\n",
        "                                                            max_iter=1000, \n",
        "                                                            activation=\"tanh\", \n",
        "                                                            solver=\"adam\", \n",
        "                                                            random_state=42)\n",
        "                                                   ),\n",
        "                                                   ('lr',LogisticRegression(\n",
        "                                                            max_iter = 1000,\n",
        "                                                            C= 3)\n",
        "                                                   ),\n",
        "                                                    ('svm',svm.SVC(\n",
        "                                                            C=7.0,\n",
        "                                                            kernel='rbf')\n",
        "                                                    ),\n",
        "                                                   ('xgb',xgb.XGBClassifier(\n",
        "                                                            nthread = -1,\n",
        "                                                            learning_rate= 0.165,\n",
        "                                                            max_depth= 6, \n",
        "                                                            n_estimators= 200)\n",
        "                                                   )\n",
        "                                                   ], n_jobs=-1,\n",
        "                                                       weights=[0.15,0.15,0.15,0.15,0.4])\n",
        "result = ensembled.fit(X_train,y_train)"
      ],
      "execution_count": null,
      "outputs": []
    },
    {
      "cell_type": "code",
      "metadata": {
        "colab": {
          "base_uri": "https://localhost:8080/"
        },
        "id": "uRJP6LzPQK4y",
        "outputId": "044d6ee9-1c88-4f05-a054-5d3ca1214a3e"
      },
      "source": [
        "val_roc_auc_score = roc_auc_score(y_test, result.predict(X_test))  #test error\n",
        "print(val_roc_auc_score) \n",
        "val_roc_auc_score_1 = roc_auc_score(y_train, result.predict(X_train))  #train error\n",
        "print(val_roc_auc_score_1)"
      ],
      "execution_count": null,
      "outputs": [
        {
          "output_type": "stream",
          "text": [
            "0.8771711466783119\n",
            "0.9250228679612107\n"
          ],
          "name": "stdout"
        }
      ]
    },
    {
      "cell_type": "code",
      "metadata": {
        "id": "em7rj-_TRCcL"
      },
      "source": [
        "ensembled =            VotingClassifier(estimators=[\n",
        "                                                   ('rf', RandomForestClassifier(\n",
        "                                                            n_estimators=200,\n",
        "                                                            max_depth=20,\n",
        "                                                            min_samples_leaf=3,\n",
        "                                                            random_state=42,\n",
        "                                                            n_jobs=-1,\n",
        "                                                          )\n",
        "                                                   ),\n",
        "                                                   ('nn', MLPClassifier(\n",
        "                                                            hidden_layer_sizes=(16, 16),\n",
        "                                                            max_iter=1000, \n",
        "                                                            activation=\"tanh\", \n",
        "                                                            solver=\"adam\", \n",
        "                                                            random_state=42)\n",
        "                                                   ),\n",
        "                                                   ('lr',LogisticRegression(\n",
        "                                                            max_iter = 1000,\n",
        "                                                            C= 3)\n",
        "                                                   ),\n",
        "                                                    ('svm',svm.SVC(\n",
        "                                                            C=7.0,\n",
        "                                                            kernel='rbf')\n",
        "                                                    ),\n",
        "                                                   ('xgb',xgb.XGBClassifier(\n",
        "                                                            nthread = -1,\n",
        "                                                            learning_rate= 0.165,\n",
        "                                                            max_depth= 6, \n",
        "                                                            n_estimators= 200)\n",
        "                                                   )\n",
        "                                                   ], n_jobs=-1,\n",
        "                                                       weights=[0.5,0,0,0,0.5])\n",
        "result = ensembled.fit(X_train,y_train)"
      ],
      "execution_count": null,
      "outputs": []
    },
    {
      "cell_type": "code",
      "metadata": {
        "colab": {
          "base_uri": "https://localhost:8080/"
        },
        "id": "LcpZx-goRLdW",
        "outputId": "04aedebc-9a50-4dc6-ce4b-8047458ed86e"
      },
      "source": [
        "val_roc_auc_score = roc_auc_score(y_test, result.predict(X_test))  #test error\n",
        "print(val_roc_auc_score) \n",
        "val_roc_auc_score_1 = roc_auc_score(y_train, result.predict(X_train))  #train error\n",
        "print(val_roc_auc_score_1)"
      ],
      "execution_count": null,
      "outputs": [
        {
          "output_type": "stream",
          "text": [
            "0.8749643721474821\n",
            "0.9203837002874453\n"
          ],
          "name": "stdout"
        }
      ]
    },
    {
      "cell_type": "code",
      "metadata": {
        "id": "JDftlLXrSgDX"
      },
      "source": [
        "ensembled =            VotingClassifier(estimators=[\n",
        "                                                   ('rf', RandomForestClassifier(\n",
        "                                                            n_estimators=200,\n",
        "                                                            max_depth=20,\n",
        "                                                            min_samples_leaf=3,\n",
        "                                                            random_state=42,\n",
        "                                                            n_jobs=-1,\n",
        "                                                          )\n",
        "                                                   ),\n",
        "                                                   ('nn', MLPClassifier(\n",
        "                                                            hidden_layer_sizes=(16, 16),\n",
        "                                                            max_iter=1000, \n",
        "                                                            activation=\"tanh\", \n",
        "                                                            solver=\"adam\", \n",
        "                                                            random_state=42)\n",
        "                                                   ),\n",
        "                                                   ('lr',LogisticRegression(\n",
        "                                                            max_iter = 1000,\n",
        "                                                            C= 3)\n",
        "                                                   ),\n",
        "                                                    ('svm',svm.SVC(\n",
        "                                                            C=7.0,\n",
        "                                                            kernel='rbf')\n",
        "                                                    ),\n",
        "                                                   ('xgb',xgb.XGBClassifier(\n",
        "                                                            nthread = -1,\n",
        "                                                            learning_rate= 0.165,\n",
        "                                                            max_depth= 6, \n",
        "                                                            n_estimators= 200)\n",
        "                                                   )\n",
        "                                                   ], n_jobs=-1,\n",
        "                                                       weights=[0.4,0.2/3,0.2/3,0.2/3,0.4])\n",
        "result = ensembled.fit(X_train,y_train)"
      ],
      "execution_count": null,
      "outputs": []
    },
    {
      "cell_type": "code",
      "metadata": {
        "colab": {
          "base_uri": "https://localhost:8080/"
        },
        "id": "b0xUm3G7SrML",
        "outputId": "6321d5d2-20e0-449c-d8e9-7a8634211150"
      },
      "source": [
        "val_roc_auc_score = roc_auc_score(y_test, result.predict(X_test))  #test error\n",
        "print(val_roc_auc_score) \n",
        "val_roc_auc_score_1 = roc_auc_score(y_train, result.predict(X_train))  #train error\n",
        "print(val_roc_auc_score_1)"
      ],
      "execution_count": null,
      "outputs": [
        {
          "output_type": "stream",
          "text": [
            "0.8767320265269054\n",
            "0.932891636377376\n"
          ],
          "name": "stdout"
        }
      ]
    }
  ]
}